{
 "cells": [
  {
   "cell_type": "code",
   "execution_count": 4,
   "id": "42cec7e8-b29a-47e8-8570-90c09502f4cb",
   "metadata": {},
   "outputs": [],
   "source": [
    "from javascript import require, On, Once, AsyncTask, once, off\n",
    "import math"
   ]
  },
  {
   "cell_type": "code",
   "execution_count": 5,
   "id": "cb84b1e0",
   "metadata": {},
   "outputs": [],
   "source": [
    "# Import the javascript libraries\n",
    "mineflayer = require(\"mineflayer\")\n",
    "pathfinder = require('mineflayer-pathfinder')\n",
    "vec3 = require(\"vec3\")\n",
    "# Global bot parameters\n",
    "serverHost = \"localhost\"\n",
    "serverPort = 3000\n",
    "reconnect = True"
   ]
  },
  {
   "cell_type": "code",
   "execution_count": 6,
   "id": "39eb7133",
   "metadata": {},
   "outputs": [],
   "source": [
    "\n",
    "class Agent:\n",
    "    def __init__(self, playerUsername, botName, serverHost, serverPort, reconnect=True):\n",
    "        self.playerUsername = playerUsername\n",
    "        self.botName = botName\n",
    "        self.serverHost = serverHost\n",
    "        self.serverPort = serverPort\n",
    "        self.reconnect = reconnect\n",
    "        self.bot = None\n",
    "        self.botArgs = {\n",
    "            \"host\": serverHost,\n",
    "            \"port\": serverPort,\n",
    "            \"username\": botName,\n",
    "            \"hideErrors\": False,\n",
    "        }\n",
    "        \n",
    "        self.createBot()\n",
    "        self.bot.loadPlugin(pathfinder.pathfinder)\n",
    "        self.mcData = require('minecraft-data')(self.bot.version)\n",
    "        self.movements = pathfinder.Movements(self.bot, self.mcData)\n",
    "\n",
    "    def createBot(self):\n",
    "        self.bot = mineflayer.createBot(self.botArgs)\n",
    "        self.startEvents()\n",
    "        return self.bot\n",
    "    \n",
    "    def log(self, message):\n",
    "        print(f\"[{self.bot.username}] {message}\")\n",
    "\n",
    "    def startEvents(self):\n",
    "        bot = self.bot\n",
    "        botName = self.botName\n",
    "        reconnectState = {\"reconnect\": self.reconnect}\n",
    "\n",
    "        @On(bot, \"login\")\n",
    "        def handleLogin(this):\n",
    "            botSocket = bot._client.socket\n",
    "            print(f\"[{botName}] Logged in to {botSocket.server if botSocket.server else botSocket._host }\")\n",
    "\n",
    "        @On(bot, \"kicked\")\n",
    "        def handleKicked(this, reason, loggedIn):\n",
    "            if loggedIn:\n",
    "                print(f\"[{botName}] Kicked whilst trying to connect: {reason}\")\n",
    "\n",
    "        @On(bot, \"messagestr\")\n",
    "        def handleMessagestr(this, message, messagePosition, jsonMsg, sender, verified=None):\n",
    "            if messagePosition == \"chat\" and \"quit\" in message:\n",
    "                reconnectState[\"reconnect\"] = False\n",
    "                this.quit()\n",
    "            elif messagePosition == \"chat\" and'come' in message:\n",
    "                localPlayers = bot.players\n",
    "                for player in localPlayers:\n",
    "                        playerData = localPlayers[player]\n",
    "                        if playerData[\"uuid\"] == sender:\n",
    "                            target = localPlayers[player].entity\n",
    "                            \n",
    "                if not target:\n",
    "                    bot.chat(\"I don't see you !\")\n",
    "                    return\n",
    "                pos = target.position\n",
    "                bot.pathfinder.setMovements(self.movements)\n",
    "                bot.pathfinder.setGoal(pathfinder.goals.GoalNear(pos.x, pos.y, pos.z, 1))\n",
    "            \n",
    "\n",
    "        @On(bot, \"end\")\n",
    "        def handleEnd(this, reason):\n",
    "            print(f\"[{botName}] Disconnected: {reason}\")\n",
    "            # Turn off old events\n",
    "            off(bot, \"login\", handleLogin)\n",
    "            off(bot, \"kicked\", handleKicked)\n",
    "            off(bot, \"messagestr\", handleMessagestr)\n",
    "\n",
    "            # Reconnect if the reconnect flag is set to True\n",
    "            if reconnectState[\"reconnect\"]:\n",
    "                print(f\"[{botName}] Attempting to reconnect\")\n",
    "                self.createBot()\n",
    "\n",
    "            # Last event listener\n",
    "            off(bot, \"end\", handleEnd)\n",
    "        \n",
    "\n",
    "\n",
    "    def setControlState(self, control, state):\n",
    "        if self.bot:\n",
    "            self.bot.setControlState(control, state)\n",
    "        else:\n",
    "            print(\"Bot is not created yet. Call createBot() first.\")\n",
    "\n",
    "    def move(self, direction, blocks):\n",
    "        if direction not in [\"forward\", \"back\", \"left\", \"right\"]:\n",
    "            print(f\"Invalid move direction: {direction}\")\n",
    "            return\n",
    "\n",
    "        startPosition = self.bot.entity.position.clone()\n",
    "        endPosition = startPosition.clone()\n",
    "\n",
    "        # Calculate the end position based on the direction and blocks\n",
    "        if direction == \"forward\":\n",
    "            endPosition.z -= blocks\n",
    "        elif direction == \"back\":\n",
    "            endPosition.z += blocks\n",
    "        elif direction == \"left\":\n",
    "            endPosition.x -= blocks\n",
    "        elif direction == \"right\":\n",
    "            endPosition.x += blocks\n",
    "\n",
    "        # Call pathfinding to move to the end position\n",
    "        self.pathfinding(endPosition)\n",
    "\n",
    "    def forward(self, blocks):\n",
    "        self.move(\"forward\", blocks)\n",
    "\n",
    "    def back(self, blocks):\n",
    "        self.move(\"back\", blocks)\n",
    "\n",
    "    def left(self, blocks):\n",
    "        self.move(\"left\", blocks)\n",
    "\n",
    "    def right(self, blocks):\n",
    "        self.move(\"right\", blocks)\n",
    "\n",
    "    def jump(self, state=True):\n",
    "        self.setControlState(\"jump\", state)\n",
    "\n",
    "    def stop(self):\n",
    "        # Stops all movement\n",
    "        self.setControlState(\"forward\", False)\n",
    "        self.setControlState(\"back\", False)\n",
    "        self.setControlState(\"left\", False)\n",
    "        self.setControlState(\"right\", False)\n",
    "        self.setControlState(\"jump\", False)\n",
    "    \n",
    "    def pathfinding(self,goalPosition,findPlayer = None):\n",
    "        if findPlayer == True:\n",
    "            localPlayers = self.bot.players\n",
    "            for player in localPlayers:\n",
    "                    playerData = localPlayers[player]\n",
    "                    if playerData[\"username\"] == self.playerUsername:\n",
    "                        target = localPlayers[player].entity\n",
    "                        \n",
    "            if not target:\n",
    "                self.bot.chat(\"I don't see you !\")\n",
    "                return\n",
    "            goalPosition = target.position\n",
    "            self.bot.pathfinder.setMovements(self.movements)\n",
    "            self.bot.pathfinder.setGoal(pathfinder.goals.GoalNear(goalPosition.x, goalPosition.y, goalPosition.z, 0))\n",
    "        else:\n",
    "            self.bot.pathfinder.setMovements(self.movements)\n",
    "            self.bot.pathfinder.setGoal(pathfinder.goals.GoalNear(goalPosition.x, goalPosition.y, goalPosition.z, 0))\n",
    "    \n",
    "    def equip(self,itemString,destination):\n",
    "         item = next((item for item in self.bot.inventory.items() if item.name == itemString), None)\n",
    "         self.bot.equip(item, destination)\n",
    "         \n",
    "\n",
    "    def consume(self):\n",
    "         self.bot.consume()\n",
    "    \n",
    "    def fish(self):\n",
    "         self.bot.fish()\n",
    "    \n",
    "    def sleep(self,bedBlock):\n",
    "         self.bot.sleep(bedBlock)\n",
    "    \n",
    "    def activateBlock(self,block): #  This is the same as right-clicking a block in the game. Useful for buttons, doors, etc. You must get to the block first\n",
    "         self.bot.activateBlock(block)\n",
    "    \n",
    "    def lookAt(self,position): #  Look at the specified position. You must go near the position before you look at it. To fill bucket with water, you must lookAt first. `position` is `Vec3`\n",
    "         self.bot.lookAt(position)\n",
    "    \n",
    "    def useOn(self,entity): # This is the same as right-clicking an entity in the game. Useful for shearing sheep, equipping harnesses, etc.\n",
    "         self.bot.useOn(entity)\n",
    "\n",
    "    def activateItem(self):\n",
    "        self.bot.activateItem()\n",
    "\n",
    "\n",
    "\n",
    "    def moveToChest(self, chestPosition): \n",
    "        self.pathfinding(chestPosition)\n",
    "        chestBlock = self.bot.blockAt(chestPosition)\n",
    "        if chestBlock.name != 'trapped_chest':\n",
    "            self.log(f\"No chest at {chestPosition}, it is {chestBlock.name}\")\n",
    "            return None\n",
    "        return chestBlock\n",
    "\n",
    "\n",
    "\n"
   ]
  },
  {
   "cell_type": "code",
   "execution_count": 7,
   "id": "60a81cb3",
   "metadata": {},
   "outputs": [
    {
     "name": "stdout",
     "output_type": "stream",
     "text": [
      "[Jon] Logged in to localhost\n"
     ]
    }
   ],
   "source": [
    "# agent = Agent('jessica030327',\"Johnny\", \"localhost\", 3000)\n",
    "# agent1 = Agent('jessica030327',\"Cassie\", \"localhost\", 3000)\n",
    "agent2 = Agent('jessica030327',\"Jon\", \"localhost\", 3000)\n"
   ]
  },
  {
   "cell_type": "code",
   "execution_count": 10,
   "id": "5eabc841",
   "metadata": {},
   "outputs": [
    {
     "data": {
      "text/plain": [
       "[]"
      ]
     },
     "execution_count": 10,
     "metadata": {},
     "output_type": "execute_result"
    }
   ],
   "source": [
    "agent2.bot.inventory.items()"
   ]
  },
  {
   "cell_type": "code",
   "execution_count": 11,
   "id": "ccb3d699",
   "metadata": {},
   "outputs": [
    {
     "data": {
      "text/plain": [
       "[]"
      ]
     },
     "execution_count": 11,
     "metadata": {},
     "output_type": "execute_result"
    }
   ],
   "source": [
    "agent2.bot.inventory.items()\n",
    "# agent2.equip('dirt','hand')"
   ]
  },
  {
   "cell_type": "code",
   "execution_count": null,
   "id": "68bc6032",
   "metadata": {},
   "outputs": [],
   "source": []
  },
  {
   "cell_type": "code",
   "execution_count": 29,
   "id": "c6074105",
   "metadata": {},
   "outputs": [
    {
     "name": "stdout",
     "output_type": "stream",
     "text": [
      "[Jon] No chest at Vec3 { \u001b[94mx\u001b[39m: \u001b[33m-207\u001b[39m, \u001b[94my\u001b[39m: \u001b[33m65\u001b[39m, \u001b[94mz\u001b[39m: \u001b[33m510\u001b[39m }, it is chest\n"
     ]
    }
   ],
   "source": [
    "chestPosition = vec3(-207, 65, 510)\n",
    "agent2.moveToChest(chestPosition)"
   ]
  },
  {
   "cell_type": "code",
   "execution_count": 11,
   "id": "a77ac175",
   "metadata": {},
   "outputs": [
    {
     "name": "stdout",
     "output_type": "stream",
     "text": [
      "[Jon] Disconnected: socketClosed\n",
      "[Jon] Attempting to reconnect\n"
     ]
    }
   ],
   "source": [
    "goalPosition = vec3(-207, 65, 400)\n",
    "agent2.pathfinding(goalPosition,findPlayer = False)\n",
    "# agent1.pathfinding(goalPosition,findPlayer = False)\n",
    "# agent.pathfinding(goalPosition,findPlayer = False)"
   ]
  },
  {
   "cell_type": "code",
   "execution_count": 28,
   "id": "2f946ba6",
   "metadata": {},
   "outputs": [],
   "source": [
    "# agent2.left(10)\n",
    "# agent2.right(30)\n",
    "# agent2.forward(5)\n",
    "agent2.forward(1)"
   ]
  }
 ],
 "metadata": {
  "kernelspec": {
   "display_name": "Minecraft_env",
   "language": "python",
   "name": "python3"
  },
  "language_info": {
   "codemirror_mode": {
    "name": "ipython",
    "version": 3
   },
   "file_extension": ".py",
   "mimetype": "text/x-python",
   "name": "python",
   "nbconvert_exporter": "python",
   "pygments_lexer": "ipython3",
   "version": "3.11.5"
  }
 },
 "nbformat": 4,
 "nbformat_minor": 5
}
