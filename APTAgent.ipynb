{
 "cells": [
  {
   "cell_type": "markdown",
   "metadata": {},
   "source": [
    "# APT Agent Demo Notebook\n",
    "\n",
    "Welcome to the demonstration of **APT Agent**, a robust and scalable agent framework for autonomous Minecraft building with spatial reasoning. This notebook provides an interactive and brief walkthrough of the agent's capabilities and how it operates within the Minecraft environment.\n",
    "\n",
    "### Objectives\n",
    "1. Introduce the architecture and setup of the agent.\n",
    "2. Showcase key functionalities such as pathfinding, block placement, and task management.\n",
    "3. Provide clear, reusable code for developers to build upon.\n",
    "\n",
    "**Note**: Ensure you have the required dependencies installed before proceeding.\n"
   ]
  },
  {
   "cell_type": "code",
   "execution_count": null,
   "metadata": {},
   "outputs": [],
   "source": [
    "# Core Python Libraries\n",
    "import os\n",
    "import json\n",
    "import time\n",
    "from datetime import datetime\n",
    "import base64\n",
    "import math\n",
    "import re\n",
    "\n",
    "# HTTP and Request Libraries\n",
    "import httpx\n",
    "import requests\n",
    "\n",
    "# LangChain Imports\n",
    "from langchain.llms import AzureOpenAI, OpenAI\n",
    "from langchain.chains import LLMChain, SimpleSequentialChain, SequentialChain\n",
    "from langchain.prompts import PromptTemplate\n",
    "from langchain_core.prompts import ChatPromptTemplate\n",
    "from langchain_core.output_parsers import JsonOutputParser\n",
    "from langchain_core.pydantic_v1 import BaseModel, Field\n",
    "from langchain_core.messages import HumanMessage\n",
    "from langchain_community.callbacks import get_openai_callback\n",
    "from langchain_openai import ChatOpenAI, AzureChatOpenAI\n",
    "\n",
    "# Custom Imports\n",
    "from fixJson import fix_json_response\n",
    "import llmAlgorithms \n",
    "from memory import MemoryDatabase  \n",
    "from actions import Actions  \n",
    "from agent import ArchitectAgent,Agent\n",
    "# JavaScript Interactions\n",
    "from javascript import require, On, Once, AsyncTask, once, off\n",
    "vec3 = require(\"vec3\")"
   ]
  },
  {
   "cell_type": "markdown",
   "metadata": {},
   "source": [
    "## Initialize the Agent\n",
    "\n",
    "In this section, we will configure and initialize the **APTAgent**. This involves:\n",
    "- Connecting the bot to the Minecraft server.\n",
    "- Defining key parameters for the agent's operation.\n",
    "\n",
    "**Note**: Update the server credentials in the code below to match your environment.\n"
   ]
  },
  {
   "cell_type": "code",
   "execution_count": 2,
   "metadata": {},
   "outputs": [],
   "source": [
    "serverHost = \"localhost\"\n",
    "serverPort = 58019\n",
    "reconnect = True\n",
    "accountName = 'jessica030327'"
   ]
  },
  {
   "cell_type": "code",
   "execution_count": null,
   "metadata": {},
   "outputs": [],
   "source": [
    "architectAgent = ArchitectAgent(accountName, \"Architect\", \"localhost\", serverPort)"
   ]
  },
  {
   "cell_type": "markdown",
   "metadata": {},
   "source": [
    "# Architect Agent Demonstration\n",
    "\n",
    "In this section, we demonstrate the functionality of the `ArchitectAgent` to create, modify, and reflect on building blueprints for Minecraft structures. The agent accepts both textual and image-based inputs to design blueprints for structures.\n",
    "\n",
    "### Features Demonstrated:\n",
    "1. **Feedback Loop**: Interactive blueprint generation using textual or visual input.\n",
    "2. **Blueprint Inspection**: View the agent's current blueprint and structure dimensions.\n",
    "3. **Reflection Mechanism**: Evaluate the agent's internal understanding of the designed structure.\n",
    "4. **Dynamic Design**: Specify new structures directly via textual descriptions.\n",
    "\n",
    "### Prerequisites:\n",
    "- Ensure `ArchitectAgent` is initialized and ready to use.\n",
    "- Provide valid URLs for image-based inputs if used.\n",
    "\n",
    "**Note**: This demonstration uses textual or image-based prompts to guide the agent's blueprint creation.\n"
   ]
  },
  {
   "cell_type": "code",
   "execution_count": 4,
   "metadata": {},
   "outputs": [],
   "source": [
    "# =======================================\n",
    "# Step 1: Provide a Textual Input for the Agent\n",
    "# =======================================\n",
    "\n",
    "# Example textual description for a structure\n",
    "structure_description = \"\"\"\n",
    "A basic 8x8 wooden house made of oak planks. \n",
    "The house has a height of 4 blocks, with an oak door centered on the front wall. \n",
    "There are 2x2 windows made of glass panes on the left wall. \n",
    "Inside, the floor is made of oak planks. A crafting table is located in the right corner of the room, \n",
    "and a red bed is placed against the left corner. Place 4 torches on the interior walls. \n",
    "The roof is flat, constructed from oak planks.\n",
    "\"\"\"\n",
    "\n",
    "# Pass the structure description to the feedback loop\n",
    "architectAgent.feedbackLoop(initial_structure=structure_description, useImage=False, imageUrl=None, memory=False)\n",
    "\n",
    "# =======================================\n",
    "# Inspect the Generated Blueprint\n",
    "# =======================================\n",
    "print(\"Generated Blueprint:\")\n",
    "print(architectAgent.blueprint)\n",
    "\n",
    "# =======================================\n",
    "# Check the Structure's Dimensions\n",
    "# =======================================\n",
    "print(\"Size of the Generated Structure:\")\n",
    "print(architectAgent.size)\n",
    "\n",
    "# =======================================\n",
    "# Optional:Reflection on the Generated Blueprint\n",
    "# =======================================\n",
    "print(\"Reflection on the Design:\")\n",
    "print(architectAgent.reflection)\n"
   ]
  },
  {
   "cell_type": "code",
   "execution_count": 5,
   "metadata": {},
   "outputs": [
    {
     "name": "stdout",
     "output_type": "stream",
     "text": [
      "Tokens Used: 599\n",
      "\tPrompt Tokens: 183\n",
      "\tCompletion Tokens: 416\n",
      "Successful Requests: 1\n",
      "Total Cost (USD): $0.0\n",
      "### Minecraft Structure Translation\n",
      "\n",
      "#### 1. **Components and Positioning**\n",
      "- **Wooden Blocks**: There are four wooden blocks used in this structure. The positioning is as follows:\n",
      "  - **Block 1**: Placed at the origin (0,0,0) of the structure.\n",
      "  - **Block 2**: Positioned directly adjacent to Block 1 along the x-axis, at coordinates (1,0,0).\n",
      "  - **Block 3**: Positioned directly adjacent to Block 1 along the z-axis, at coordinates (0,0,1).\n",
      "  - **Block 4**: Positioned diagonally from Block 1, adjacent to both Block 2 and Block 3, at coordinates (1,0,1).\n",
      "\n",
      "#### 2. **Dimensional Layout**\n",
      "- **Overall Dimensions**: The structure has a length, width, and height of 2x2x1 blocks. This means it covers a 2 block length, 2 block width, and is 1 block high.\n",
      "\n",
      "#### 3. **Description**\n",
      "- **Purpose and Design**: The structure seems to be a simple base level or foundation, potentially for a small platform or the beginning of a larger construction. The design is basic, consisting of a square 2x2 platform made entirely of wooden blocks.\n",
      "  \n",
      "- **Construction Sequence**:\n",
      "  - **Step 1**: Start by placing Block 1 at the designated starting point (0,0,0).\n",
      "  - **Step 2**: Attach Block 2 to the right of Block 1 on the x-axis.\n",
      "  - **Step 3**: Add Block 3 directly in front of Block 1 on the z-axis.\n",
      "  - **Step 4**: Finally, place Block 4 at the intersection of Block 2 and Block 3, completing the square layout.\n",
      "\n",
      "This sequence ensures that all blocks are accessible and prevents obstruction during construction. The simplicity of this structure allows for easy expansion or modification for more complex builds in future stages.\n",
      "\n",
      "\n",
      "\u001b[1m> Entering new SequentialChain chain...\u001b[0m\n",
      "\n",
      "\u001b[1m> Finished chain.\u001b[0m\n",
      "Tokens Used: 1175\n",
      "\tPrompt Tokens: 1042\n",
      "\tCompletion Tokens: 133\n",
      "Successful Requests: 2\n",
      "Total Cost (USD): $0.0\n",
      "```json\n",
      "{\"code\":\"start_pos = self.bot.entity.position.floor()\\nlayout = [\\n    ('oak_planks', start_pos.offset(0, 0, 0)),\\n    ('oak_planks', start_pos.offset(1, 0, 0)),\\n    ('oak_planks', start_pos.offset(0, 0, 1)),\\n    ('oak_planks', start_pos.offset(1, 0, 1))\\n]\\nself.actions.buildStructure(layout, mode='creative')\"}\n",
      "```\n",
      "Initial Blueprint: start_pos = self.bot.entity.position.floor()\n",
      "layout = [\n",
      "    ('oak_planks', start_pos.offset(0, 0, 0)),\n",
      "    ('oak_planks', start_pos.offset(1, 0, 0)),\n",
      "    ('oak_planks', start_pos.offset(0, 0, 1)),\n",
      "    ('oak_planks', start_pos.offset(1, 0, 1))\n",
      "]\n",
      "self.actions.buildStructure(layout, mode='creative')\n",
      "Visual inspection in progress\n",
      "Regenerating blueprint based on feedback...\n",
      "{'reflection': 'The current blueprint code generates a 2x2 square of wooden blocks instead of a line of 4 blocks. The discrepancy arises because the code offsets both x and z directions, forming a square rather than a linear arrangement. The task description aims for a linear arrangement of 4 wooden blocks which the current code does not account for.', 'code': \"start_pos=self.bot.entity.position.floor()\\nlayout=[('oak_planks',start_pos.offset(x,0,0))for x in range(4)]\\nself.actions.buildStructure(layout,mode='creative')\"}\n",
      "Reflected Blueprint: start_pos=self.bot.entity.position.floor()\n",
      "layout=[('oak_planks',start_pos.offset(x,0,0))for x in range(4)]\n",
      "self.actions.buildStructure(layout,mode='creative')\n",
      "Blueprint executed successfully after feedback!\n"
     ]
    },
    {
     "data": {
      "text/plain": [
       "True"
      ]
     },
     "execution_count": 5,
     "metadata": {},
     "output_type": "execute_result"
    }
   ],
   "source": [
    "\n",
    "# =======================================\n",
    "# Provide an Image-Based Input\n",
    "# =======================================\n",
    "\n",
    "# Example image URL for blueprint generation\n",
    "image_url = 'https://raw.githubusercontent.com/spearsheep/multi-agent-collaboration/refs/heads/main/villageHouse.png'\n",
    "\n",
    "# Use the image URL to guide the blueprint design\n",
    "architectAgent.feedbackLoop(initial_structure=None, useImage=True, imageUrl=image_url, memory=True)\n",
    "\n",
    "\n",
    "\n"
   ]
  },
  {
   "cell_type": "code",
   "execution_count": null,
   "metadata": {},
   "outputs": [],
   "source": [
    "# =======================================\n",
    "# Design a New Structure from Textual Description, showing the blueprint output without building\n",
    "# =======================================\n",
    "\n",
    "# Example: Create a blueprint for a diamond swimming pool\n",
    "structure = \"a diamond swimming pool\"\n",
    "architectAgent.designBlueprint(structure, memory=False)\n"
   ]
  },
  {
   "cell_type": "markdown",
   "metadata": {},
   "source": [
    "## Notes:\n",
    "1. **Interactive Feedback**: Use the `feedbackLoop` function to iteratively refine the blueprint based on textual or visual inputs.\n",
    "2. **Memory Parameter**:\n",
    "   - Set `memory=True` to allow the agent to incorporate past designs into the current blueprint.\n",
    "   - Set `memory=False` for isolated, one-time designs.\n",
    "3. **Blueprint Inspection**: Use the `blueprint`, `size`, and `reflection` attributes to verify the design's accuracy and dimensions.\n",
    "\n",
    "## Tips:\n",
    "- **Experimentation**: Try providing diverse structure descriptions to explore the agent's creativity.\n",
    "- **Image-Based Inputs**: Ensure the image URL is accessible and depicts a clear structure for optimal results.\n"
   ]
  }
 ],
 "metadata": {
  "kernelspec": {
   "display_name": "Minecraft_env",
   "language": "python",
   "name": "python3"
  },
  "language_info": {
   "codemirror_mode": {
    "name": "ipython",
    "version": 3
   },
   "file_extension": ".py",
   "mimetype": "text/x-python",
   "name": "python",
   "nbconvert_exporter": "python",
   "pygments_lexer": "ipython3",
   "version": "3.11.5"
  }
 },
 "nbformat": 4,
 "nbformat_minor": 2
}
